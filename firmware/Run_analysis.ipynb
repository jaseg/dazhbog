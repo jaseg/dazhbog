{
 "cells": [
  {
   "cell_type": "code",
   "execution_count": 193,
   "metadata": {
    "collapsed": true
   },
   "outputs": [],
   "source": [
    "from matplotlib import pyplot as plt\n",
    "%matplotlib inline\n",
    "import numpy as np\n",
    "import numpy.polynomial.polynomial as poly\n",
    "\n",
    "import itertools\n",
    "import sqlite3"
   ]
  },
  {
   "cell_type": "code",
   "execution_count": 5,
   "metadata": {
    "collapsed": true
   },
   "outputs": [],
   "source": [
    "db = sqlite3.connect('results.sqlite3')"
   ]
  },
  {
   "cell_type": "code",
   "execution_count": 222,
   "metadata": {
    "collapsed": false
   },
   "outputs": [],
   "source": [
    "def fetch_run(name_or_id):\n",
    "    if type(name_or_id) is str:\n",
    "        runs = db.execute('SELECT run_id FROM runs WHERE name LIKE ?', (run_name,)).fetchall()\n",
    "        if len(runs) > 1:\n",
    "            raise ValueError('Ambiguous run name {} matches run ids {}'.format(run_name, runs))\n",
    "    \n",
    "        ((run_id,),), run_name = runs, name_or_id\n",
    "    else:\n",
    "        run_id, (run_name,) = name_or_id, db.execute('SELECT name FROM runs WHERE run_id == ?', (name_or_id,)).fetchone()\n",
    "    \n",
    "    data = db.execute('''\n",
    "        SELECT channel, duty_cycle, voltage, voltage_stdev FROM measurements\n",
    "        WHERE run_id == ?\n",
    "        ORDER BY channel ASC, duty_cycle ASC;\n",
    "        ''', (run_id,)).fetchall()\n",
    "    \n",
    "    _ch, cal_duty, *cal = data[0]\n",
    "    assert cal_duty == 0\n",
    "    grouped = {ch: [(duty, volt, stdev) for _ch, duty, volt, stdev in data]\n",
    "               for ch, data in itertools.groupby(data, lambda elem: elem[0]) if ch != -1}\n",
    "    return (run_id, run_name), grouped, cal"
   ]
  },
  {
   "cell_type": "code",
   "execution_count": 243,
   "metadata": {
    "collapsed": false
   },
   "outputs": [],
   "source": [
    "def plot_run(name_or_id):\n",
    "    (run_id, run_name), data, cal = fetch_run(name_or_id)\n",
    "    \n",
    "    fig, ax = plt.subplots(figsize=(12,8))\n",
    "    ax.set_title('Run {} id {}'.format(run_name, run_id))\n",
    "    ax.set_xscale('log')\n",
    "    ax.set_yscale('log')\n",
    "\n",
    "    min_x = 1e9\n",
    "    max_y = 0\n",
    "    cal_volt, cal_stdev = cal\n",
    "    for ch in data:\n",
    "        ch_data = data[ch]\n",
    "        duty, volt, stdev = zip(*ch_data)\n",
    "        vref = volt[0] - cal_volt\n",
    "        volt = (np.array(volt) - cal_volt) / vref\n",
    "        stdev = np.array(stdev) / vref\n",
    "        max_y = max(max(volt), max_y)\n",
    "        min_x = min(min(duty), min_x)\n",
    "        ax.errorbar(duty, volt, yerr=stdev)\n",
    "    \n",
    "    # reuse latest duty cycles here\n",
    "    ax.set_xticks(duty)\n",
    "    ax.set_xticklabels([str(i) for i in range(len(duty))])\n",
    "    ax.set_xlabel('bit index')\n",
    "    ax.set_yticks([2**i for i in range(len(duty))])\n",
    "    ax.set_yticklabels([str(2**i) for i in range(len(duty))])\n",
    "    \n",
    "    ax.set_xlim([min_x*0.9, 1.1])\n",
    "    ax.set_ylim([0, max_y*1.1])"
   ]
  },
  {
   "cell_type": "code",
   "execution_count": 245,
   "metadata": {
    "collapsed": false,
    "scrolled": false
   },
   "outputs": [
    {
     "data": {
      "image/png": "[encoded data removed]",
      "text/plain": [
       "<matplotlib.figure.Figure at 0x7880f51ae3c8>"
      ]
     },
     "metadata": {},
     "output_type": "display_data"
    }
   ],
   "source": [
    "plot_run(37)"
   ]
  }
 ],
 "metadata": {
  "kernelspec": {
   "display_name": "Python 3",
   "language": "python",
   "name": "python3"
  },
  "language_info": {
   "codemirror_mode": {
    "name": "ipython",
    "version": 3
   },
   "file_extension": ".py",
   "mimetype": "text/x-python",
   "name": "python",
   "nbconvert_exporter": "python",
   "pygments_lexer": "ipython3",
   "version": "3.5.4"
  }
 },
 "nbformat": 4,
 "nbformat_minor": 0
}
